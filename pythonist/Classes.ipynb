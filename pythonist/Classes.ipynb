{
 "cells": [
  {
   "cell_type": "markdown",
   "id": "c8df1007",
   "metadata": {},
   "source": [
    "### Define a class"
   ]
  },
  {
   "cell_type": "code",
   "execution_count": 1,
   "id": "71567a5f",
   "metadata": {},
   "outputs": [],
   "source": [
    "# Defining a class\n",
    "class Person:\n",
    "    pass"
   ]
  },
  {
   "cell_type": "code",
   "execution_count": 2,
   "id": "6fb0b8b3",
   "metadata": {},
   "outputs": [],
   "source": [
    "# Create an object from the Person class is like calling a function\n",
    "person = Person()"
   ]
  },
  {
   "cell_type": "markdown",
   "id": "4f376dc9",
   "metadata": {},
   "source": [
    "### Define instance attributes"
   ]
  },
  {
   "cell_type": "code",
   "execution_count": 3,
   "id": "d82216b1",
   "metadata": {},
   "outputs": [],
   "source": [
    "# We can add attributes to an instance of a class dynamically\n",
    "person.name = 'John'"
   ]
  },
  {
   "cell_type": "code",
   "execution_count": 4,
   "id": "8ec79f82",
   "metadata": {},
   "outputs": [],
   "source": [
    "# Use __init__ method to create class attributes valid for all instances\n",
    "class Person:\n",
    "    def __init__(self, name, age):\n",
    "        self.name = name\n",
    "        self.age = age"
   ]
  },
  {
   "cell_type": "markdown",
   "id": "7947b865",
   "metadata": {},
   "source": [
    "In the `__init__` method, `self` refers to the instance of the `Person` class "
   ]
  },
  {
   "cell_type": "code",
   "execution_count": 5,
   "id": "5b4cafbd",
   "metadata": {},
   "outputs": [],
   "source": [
    "# Create a Person object named person:\n",
    "person = Person('John', 25)"
   ]
  },
  {
   "cell_type": "code",
   "execution_count": 6,
   "id": "e2ceba89",
   "metadata": {},
   "outputs": [
    {
     "data": {
      "text/plain": [
       "'John'"
      ]
     },
     "execution_count": 6,
     "metadata": {},
     "output_type": "execute_result"
    }
   ],
   "source": [
    "# Person object has the name and age attributes. We can access them using dot notation:\n",
    "person.name"
   ]
  },
  {
   "cell_type": "markdown",
   "id": "07f29d3c",
   "metadata": {},
   "source": [
    "### Define instance methods"
   ]
  },
  {
   "cell_type": "code",
   "execution_count": 7,
   "id": "f9769385",
   "metadata": {},
   "outputs": [],
   "source": [
    "# Add instance method greet() to the Person class\n",
    "class Person:\n",
    "    def __init__(self, name, age):\n",
    "        self.name = name\n",
    "        self.age = age\n",
    "        \n",
    "    def greet(self):\n",
    "        return f'Hi, it\\'s {self.name}.'"
   ]
  },
  {
   "cell_type": "code",
   "execution_count": 8,
   "id": "3da5d4e7",
   "metadata": {},
   "outputs": [
    {
     "name": "stdout",
     "output_type": "stream",
     "text": [
      "Hi, it's John.\n"
     ]
    }
   ],
   "source": [
    "# Calling instance method - use dot notation as well\n",
    "person = Person('John', 25)\n",
    "print(person.greet())"
   ]
  },
  {
   "cell_type": "markdown",
   "id": "11e7c4ed",
   "metadata": {},
   "source": [
    "### Define class attributes"
   ]
  },
  {
   "cell_type": "code",
   "execution_count": 9,
   "id": "6bcd9001",
   "metadata": {},
   "outputs": [],
   "source": [
    "# Class attributes are shared by all instances of the class. Useful when defining\n",
    "# class constants or variables that keep track of the number of instances of a class. \n",
    "class Person:\n",
    "    counter = 0\n",
    "    \n",
    "    def __init__(self, name, age):\n",
    "        self.name = name\n",
    "        self.age = age\n",
    "        \n",
    "    def greet(self):\n",
    "        return f'Hi, it\\'s {self.name}.'\n"
   ]
  },
  {
   "cell_type": "code",
   "execution_count": 11,
   "id": "74484ccd",
   "metadata": {},
   "outputs": [
    {
     "data": {
      "text/plain": [
       "0"
      ]
     },
     "execution_count": 11,
     "metadata": {},
     "output_type": "execute_result"
    }
   ],
   "source": [
    "# Access counter from the Person class\n",
    "Person.counter"
   ]
  },
  {
   "cell_type": "code",
   "execution_count": 12,
   "id": "fd15fdfc",
   "metadata": {
    "scrolled": true
   },
   "outputs": [
    {
     "data": {
      "text/plain": [
       "0"
      ]
     },
     "execution_count": 12,
     "metadata": {},
     "output_type": "execute_result"
    }
   ],
   "source": [
    "person = Person('John', 25)\n",
    "person.counter"
   ]
  },
  {
   "cell_type": "code",
   "execution_count": 13,
   "id": "e56dcd5d",
   "metadata": {},
   "outputs": [],
   "source": [
    "# We can make the counter variable change when we add instances\n",
    "class Person:\n",
    "    counter = 0\n",
    "    \n",
    "    def __init__(self, name, age):\n",
    "        self.name = name\n",
    "        self.age = age\n",
    "        Person.counter += 1\n",
    "        \n",
    "    def greet(self):\n",
    "        return f'Hi, it\\'s {self.name}.'"
   ]
  },
  {
   "cell_type": "code",
   "execution_count": 14,
   "id": "c3d78904",
   "metadata": {},
   "outputs": [
    {
     "name": "stdout",
     "output_type": "stream",
     "text": [
      "2\n"
     ]
    }
   ],
   "source": [
    "# Create two instances of Person class and check the counter value\n",
    "p1 = Person('John', 25)\n",
    "p2 = Person('Jane', 23)\n",
    "print(Person.counter)"
   ]
  },
  {
   "cell_type": "markdown",
   "id": "ec9316fd",
   "metadata": {},
   "source": [
    "### Define class method"
   ]
  },
  {
   "cell_type": "code",
   "execution_count": 17,
   "id": "c0aeb6b8",
   "metadata": {},
   "outputs": [],
   "source": [
    "# Class methods also are shared across all instances. The first argument of a class method\n",
    "# is always the class itself. By convention, its name is cls. Python automatically passes this\n",
    "# argument to the class method. We also need to use the @classmethod decorator to decorate a \n",
    "# class method\n",
    "class Person:\n",
    "    counter = 0\n",
    "    \n",
    "    def __init__(self, name, age):\n",
    "        self.name = name\n",
    "        self.age = age\n",
    "        Person.counter =+ 1\n",
    "    \n",
    "    def greet(self):\n",
    "        return f'Hi it\\'s {self.name}.'\n",
    "    \n",
    "    @classmethod\n",
    "    def create_anonymous(cls):\n",
    "        return Person('Anonymous', 22)"
   ]
  },
  {
   "cell_type": "code",
   "execution_count": 19,
   "id": "934a9971",
   "metadata": {},
   "outputs": [
    {
     "name": "stdout",
     "output_type": "stream",
     "text": [
      "Anonymous\n"
     ]
    }
   ],
   "source": [
    "anonymous = Person.create_anonymous()\n",
    "print(anonymous.name)"
   ]
  },
  {
   "cell_type": "markdown",
   "id": "66caac7c",
   "metadata": {},
   "source": [
    "### Define static method"
   ]
  },
  {
   "cell_type": "code",
   "execution_count": 20,
   "id": "e80b2116",
   "metadata": {},
   "outputs": [],
   "source": [
    "# A static method isn't bound to a class or any of its instances. Static methods are used to\n",
    "# group logically related functions in a class. To define a static method, use the @ staticmethod decorator\n",
    "class TemperatureConverter:\n",
    "    @staticmethod \n",
    "    def celsius_to_fahrenheit(c):\n",
    "        return 9 * c / 5 + 32\n",
    "    \n",
    "    @staticmethod\n",
    "    def fahrenheit_to_celsius(f): \n",
    "        return 5 * (f - 32) / 9"
   ]
  },
  {
   "cell_type": "code",
   "execution_count": 21,
   "id": "a36daa05",
   "metadata": {},
   "outputs": [
    {
     "name": "stdout",
     "output_type": "stream",
     "text": [
      "86.0\n"
     ]
    }
   ],
   "source": [
    "# Call staticmethod using dot notation as well\n",
    "f = TemperatureConverter.celsius_to_fahrenheit(30)\n",
    "print(f)"
   ]
  },
  {
   "cell_type": "markdown",
   "id": "6d438cb2",
   "metadata": {},
   "source": [
    "### Single inheritance"
   ]
  },
  {
   "cell_type": "code",
   "execution_count": 24,
   "id": "3ce09cba",
   "metadata": {},
   "outputs": [],
   "source": [
    "# A class can reuse another class by inheriting it. When a child class inherits from a parent class, the child\n",
    "# class can access the attributes and methods of the parent class\n",
    "class Employee(Person):\n",
    "    def __init__(self, name, age, job_title):\n",
    "        # call the __init__ method of the Person class to initalize name and age attributes using super()\n",
    "        # super() allows a child class to access the \n",
    "        super().__init__(name, age)\n",
    "        self.job_title = job_title\n",
    "        \n",
    "    # we can override the greet() method in the Person class by defining a greet() method in the Employee class\n",
    "    def greet(self):\n",
    "        return super().greet() + f' I\\'m a {self.job_title}.'"
   ]
  },
  {
   "cell_type": "code",
   "execution_count": 25,
   "id": "79d4b010",
   "metadata": {},
   "outputs": [
    {
     "name": "stdout",
     "output_type": "stream",
     "text": [
      "Hi it's John. I'm a Python developer.\n"
     ]
    }
   ],
   "source": [
    "employee = Employee('John', 23, 'Python developer')\n",
    "print(employee.greet())"
   ]
  },
  {
   "cell_type": "code",
   "execution_count": null,
   "id": "724f6601",
   "metadata": {},
   "outputs": [],
   "source": []
  }
 ],
 "metadata": {
  "kernelspec": {
   "display_name": "Python 3 (ipykernel)",
   "language": "python",
   "name": "python3"
  },
  "language_info": {
   "codemirror_mode": {
    "name": "ipython",
    "version": 3
   },
   "file_extension": ".py",
   "mimetype": "text/x-python",
   "name": "python",
   "nbconvert_exporter": "python",
   "pygments_lexer": "ipython3",
   "version": "3.9.12"
  }
 },
 "nbformat": 4,
 "nbformat_minor": 5
}
