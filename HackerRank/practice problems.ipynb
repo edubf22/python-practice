{
 "cells": [
  {
   "cell_type": "markdown",
   "id": "1853ab68",
   "metadata": {},
   "source": [
    "Alice and Bob each created one problem for HackerRank. A reviewer rates the two challenges, awarding points on a scale from 1 to 100 for three categories: problem clarity, originality, and difficulty.\n",
    "\n",
    "The rating for Alice's challenge is the triplet a = (a[0], a[1], a[2]), and the rating for Bob's challenge is the triplet b = (b[0], b[1], b[2]).\n",
    "\n",
    "The task is to find their comparison points by comparing a[0] with b[0], a[1] with b[1], and a[2] with b[2].\n",
    "\n",
    "    If a[i] > b[i], then Alice is awarded 1 point.\n",
    "    If a[i] < b[i], then Bob is awarded 1 point.\n",
    "    If a[i] = b[i], then neither person receives a point.\n",
    "\n",
    "Comparison points is the total points a person earned.\n",
    "\n",
    "Given a and b, determine their respective comparison points.\n",
    "\n",
    "Example\n",
    "\n",
    "a = [1, 2, 3]\n",
    "b = [3, 2, 1]\n",
    "\n",
    "    For elements *0*, Bob is awarded a point because a[0] .\n",
    "    For the equal elements a[1] and b[1], no points are earned.\n",
    "    Finally, for elements 2, a[2] > b[2] so Alice receives a point.\n",
    "\n",
    "The return array is [1, 1] with Alice's score first and Bob's second. "
   ]
  },
  {
   "cell_type": "code",
   "execution_count": 1,
   "id": "fbe4971a",
   "metadata": {},
   "outputs": [],
   "source": [
    "def compareTriplets(a, b):\n",
    "    # Write your code here\n",
    "    a_points = 0 \n",
    "    b_points = 0\n",
    "    \n",
    "    for i in range(3):\n",
    "        if a[i] > b[i]:\n",
    "            a_points += 1\n",
    "        elif a[i] < b[i]:\n",
    "            b_points += 1\n",
    "    \n",
    "    return a_points, b_points"
   ]
  },
  {
   "cell_type": "markdown",
   "id": "785d87bb",
   "metadata": {},
   "source": [
    "Given an array of integers, find the sum of its elements.\n",
    "\n",
    "For example, if the array `ar = [1,2,3]`, `1+2+3=6`, so return `6`.\n",
    "\n",
    "**Function Description**\n",
    "\n",
    "Complete the simpleArraySum function in the editor below. It must return the sum of the array elements as an integer.\n",
    "\n",
    "simpleArraySum has the following parameter(s):\n",
    "\n",
    "- ar: an array of integers\n",
    "\n",
    "**Input Format**\n",
    "\n",
    "The first line contains an integer, `n`, denoting the size of the array.\n",
    "\n",
    "The second line contains `n` space-separated integers representing the array's elements.\n",
    "\n",
    "**Constraints**\n",
    "`0 < n, ar[i] <= 1000`\n",
    "\n",
    "**Output Format**\n",
    "\n",
    "Print the sum of the array's elements as a single integer. "
   ]
  },
  {
   "cell_type": "code",
   "execution_count": 2,
   "id": "4327f1d8",
   "metadata": {},
   "outputs": [],
   "source": [
    "def simpleArraySum(ar):\n",
    "    # Write your code here\n",
    "    sum = 0 \n",
    "    \n",
    "    for i in range(len(ar)):\n",
    "        sum += ar[i]\n",
    "    \n",
    "    return int(sum)"
   ]
  },
  {
   "cell_type": "markdown",
   "id": "f81f5cb7",
   "metadata": {},
   "source": [
    "Given an array of integers, calculate the ratios of its elements that are positive, negative, and zero. Print the decimal value of each fraction on a new line with `6` places after the decimal.\n",
    "\n",
    "**Note**: This challenge introduces precision problems. The test cases are scaled to six decimal places, though answers with absolute error of up to `10e-4` are acceptable.\n",
    "\n",
    "**Example**\n",
    "`arr = [1,1,0,-1,-1]`\n",
    "\n",
    "There are `n=5` elements, two positive, two negative and one zero. Their ratios are `2/5 = 0.400000`, `2/5 = 0.400000` and `1/5 = 0.200000`. Results are printed as: \n",
    "```\n",
    "0.400000\n",
    "0.400000\n",
    "0.200000\n",
    "```"
   ]
  },
  {
   "cell_type": "code",
   "execution_count": 3,
   "id": "570243bd",
   "metadata": {},
   "outputs": [],
   "source": [
    "def plusMinus(arr):\n",
    "    # Write your code here\n",
    "    elements = len(arr)\n",
    "    pos = 0\n",
    "    neg = 0\n",
    "    zeros = 0\n",
    "    \n",
    "    for i in arr:\n",
    "        if i > 0:\n",
    "            pos += 1\n",
    "        elif i < 0:\n",
    "            neg += 1\n",
    "        else:\n",
    "            zeros += 1\n",
    "    \n",
    "    pos_ratio = pos/elements\n",
    "    neg_ratio = neg/elements\n",
    "    zeros_ratio = zeros/elements\n",
    "    \n",
    "    print('{:.6f}\\n{:.6f}\\n{:.6f}'.format(pos_ratio, neg_ratio, zeros_ratio))\n"
   ]
  },
  {
   "cell_type": "markdown",
   "id": "e852a70b",
   "metadata": {},
   "source": [
    "In this challenge, you are required to calculate and print the sum of the elements in an array, keeping in mind that some of those integers may be quite large.\n",
    "\n",
    "Function Description\n",
    "\n",
    "Complete the aVeryBigSum function in the editor below. It must return the sum of all array elements.\n",
    "\n",
    "aVeryBigSum has the following parameter(s):\n",
    "\n",
    "- int ar[n]: an array of integers .\n",
    "\n",
    "Return\n",
    "\n",
    "- long: the sum of all array elements\n"
   ]
  },
  {
   "cell_type": "code",
   "execution_count": 4,
   "id": "62e5f5a0",
   "metadata": {},
   "outputs": [],
   "source": [
    "def aVeryBigSum(ar):\n",
    "    # Write your code here\n",
    "    return sum(ar)"
   ]
  },
  {
   "cell_type": "markdown",
   "id": "df3d833a",
   "metadata": {},
   "source": [
    "Staircase detail\n",
    "\n",
    "This is a staircase of size `n=4`:\n",
    "```\n",
    "   #\n",
    "  ##\n",
    " ###\n",
    "####\n",
    "```\n",
    "\n",
    "Its base and height are both equal to `n`. It is drawn using # symbols and spaces. The last line is not preceded by any spaces.\n",
    "\n",
    "Write a program that prints a staircase of size `n`.\n",
    "\n",
    "**Function Description**\n",
    "\n",
    "Complete the staircase function in the editor below.\n",
    "\n",
    "staircase has the following parameter(s):\n",
    "\n",
    "- int n: an integer\n",
    "\n",
    "**Print**\n",
    "\n",
    "Print a staircase as described above.\n",
    "\n",
    "**Input Format**\n",
    "\n",
    "A single integer, `n`, denoting the size of the staircase.\n",
    "\n",
    "**Constraints**\n",
    "\n",
    "`0 < n <= 100`\n",
    "\n",
    "**Output Format**\n",
    "\n",
    "Print a staircase of size `n` using # symbols and spaces.\n",
    "\n",
    "Note: The last line must have `0` spaces in it. "
   ]
  },
  {
   "cell_type": "code",
   "execution_count": 5,
   "id": "d32b91b8",
   "metadata": {},
   "outputs": [],
   "source": [
    "def staircase(n):\n",
    "    # Write your code here\n",
    "    i = n-1\n",
    "    \n",
    "    while i >= 0:\n",
    "        print(((i)*' ') + ((n-i)*'#'))\n",
    "        #print(n*'#')\n",
    "        i -= 1"
   ]
  },
  {
   "cell_type": "code",
   "execution_count": 7,
   "id": "8a8bf7c2",
   "metadata": {},
   "outputs": [
    {
     "name": "stdout",
     "output_type": "stream",
     "text": [
      "         #\n",
      "        ##\n",
      "       ###\n",
      "      ####\n",
      "     #####\n",
      "    ######\n",
      "   #######\n",
      "  ########\n",
      " #########\n",
      "##########\n"
     ]
    }
   ],
   "source": [
    "staircase(10)"
   ]
  },
  {
   "cell_type": "markdown",
   "id": "f6cc8af4",
   "metadata": {},
   "source": [
    "Given five positive integers, find the minimum and maximum values that can be calculated by summing exactly four of the five integers. Then print the respective minimum and maximum values as a single line of two space-separated long integers.\n",
    "\n",
    "**Example**\n",
    "`arr = [1, 3, 5, 7, 9]`\n",
    "The minimum sum is `1+3+5+7` and the maximum sum is `3+5+7+9`. The function prints `16 24`\n",
    "\n",
    "**Function Description**\n",
    "\n",
    "Complete the miniMaxSum function in the editor below.\n",
    "\n",
    "miniMaxSum has the following parameter(s):\n",
    "\n",
    "- arr: an array of `5` integers\n",
    "\n",
    "**Print**\n",
    "\n",
    "Print two space-separated integers on one line: the minimum sum and the maximum sum of\n",
    "of elements. "
   ]
  },
  {
   "cell_type": "code",
   "execution_count": 8,
   "id": "1984ee80",
   "metadata": {},
   "outputs": [],
   "source": [
    "def miniMaxSum(arr):\n",
    "    # Write your code here\n",
    "    sort = sorted(arr)\n",
    "    \n",
    "    min_sum = sum(sort[:(len(arr)-1)])\n",
    "    max_sum = sum(sort[-4:])\n",
    "    \n",
    "    print(min_sum, max_sum)"
   ]
  },
  {
   "cell_type": "markdown",
   "id": "c2e1b44a",
   "metadata": {},
   "source": [
    "Given a time in 12-hour AM/PM format, convert it to military (24-hour) time.\n",
    "\n",
    "Note: \n",
    "- 12:00:00AM on a 12-hour clock is 00:00:00 on a 24-hour clock.\n",
    "- 12:00:00PM on a 12-hour clock is 12:00:00 on a 24-hour clock.\n",
    "\n",
    "**Example**\n",
    "\n",
    "`s='12:01:00AM'`\n",
    "\n",
    "Return `'00:01:00'`\n",
    "\n",
    "**Function Description**\n",
    "\n",
    "Complete the timeConversion function in the editor below. It should return a new string representing the input time in 24 hour format.\n",
    "\n",
    "timeConversion has the following parameter(s):\n",
    "\n",
    "- string s: a time in 12-hour format\n",
    "\n",
    "**Returns**\n",
    "\n",
    "- string: the time in 24-hour format\n",
    "\n",
    "**Input Format**\n",
    "\n",
    "A single string `s` that represents a time in 12-hour clock format (i.e.:`hh:mm:ssAM` or `hh:mm:ssPM`)."
   ]
  },
  {
   "cell_type": "code",
   "execution_count": 81,
   "id": "3e3c4d6a",
   "metadata": {},
   "outputs": [],
   "source": [
    "def timeConversion(s):\n",
    "    # Check for PM\n",
    "    if s[-2] == 'P':\n",
    "        # We only change the hours if it's not the 12th hour\n",
    "        if s[:2] != '12':\n",
    "            s = s.replace(s[:2], str(int(s[:2])+12))\n",
    "    \n",
    "    else:\n",
    "        # If 12AM, need to change to 00\n",
    "        if s[:2] == '12':\n",
    "            s = s.replace(s[:2], '00')\n",
    "            \n",
    "    return s[:-2]"
   ]
  },
  {
   "cell_type": "code",
   "execution_count": 80,
   "id": "26ac9fb7",
   "metadata": {},
   "outputs": [
    {
     "data": {
      "text/plain": [
       "'00:00:00'"
      ]
     },
     "execution_count": 80,
     "metadata": {},
     "output_type": "execute_result"
    }
   ],
   "source": [
    "timeConversion('12:00:00AM')"
   ]
  },
  {
   "cell_type": "markdown",
   "id": "75c92074",
   "metadata": {},
   "source": [
    "There is a collection of input strings and a collection of query strings. For each query string, determine how many times it occurs in the list of input strings. Return an array of the results.\n",
    "\n",
    "**Example**\n",
    "`strings = ['ab', 'ab', 'abc']`\n",
    "`queries = ['ab', 'abc', 'bc']`\n",
    "\n",
    "There are `2` instances of `ab`, `1` of `abc` and `0` of `bc`. For each query, add an element to the return array, `results = [2, 1, 0]`.\n",
    "\n",
    "**Function Description**\n",
    "\n",
    "Complete the function matchingStrings in the editor below. The function must return an array of integers representing the frequency of occurrence of each query string in strings.\n",
    "\n",
    "matchingStrings has the following parameters:\n",
    "\n",
    "- string strings[n] - an array of strings to search\n",
    "- string queries[q] - an array of query strings\n",
    "\n",
    "**Returns**\n",
    "\n",
    "- int[q]: an array of results for each query\n",
    "\n",
    "**Input Format**\n",
    "\n",
    "- The first line contains an integer `n`, the size of `strings`.\n",
    "- Each of the next lines contains a string `strings[i]`.\n",
    "- The next line contains `q`, the size of `queries`.\n",
    "- Each of the next lines contains a string `queries[i]`. "
   ]
  },
  {
   "cell_type": "code",
   "execution_count": 1,
   "id": "ca2997ec",
   "metadata": {},
   "outputs": [],
   "source": [
    "def matchingStrings(strings, queries):\n",
    "    # Count the occurrence of each query q in strings and save as a list\n",
    "    return [str(strings.count(q)) for q in queries]"
   ]
  },
  {
   "cell_type": "markdown",
   "id": "df7b282f",
   "metadata": {},
   "source": [
    "Algorithm:\n",
    "\n",
    "I broke this question into 2 parts: finding the number of occurences and putting together the result list in order. Because when using a hashmap to track the number of occurences i lose the order of the elements and the returning list has to be in the same order as the queries.\n",
    "\n",
    "First, finding the number of occurences for each\n",
    "\n",
    "- Create a hashmap, key = items in queries[], values = integer increment as matches are found in strings[]\n",
    "- Traverse strings[]\n",
    "- Increment hashmap as it finds matches in string\n",
    "\n",
    "Returning the list\n",
    "\n",
    "- Traverse Queries[]\n",
    "-    Search map for the # of occurences of queries[i]\n",
    "-    add the # of occurences to the result list\n",
    "-   return the resulting list\n"
   ]
  },
  {
   "cell_type": "markdown",
   "id": "5b7e969b",
   "metadata": {},
   "source": [
    "Given an array of integers, where all elements but one occur twice, find the unique element.\n",
    "\n",
    "**Example**\n",
    "`a = [1,2,3,4,3,2,1]`\n",
    "\n",
    "The unique element is `4`.\n",
    "\n",
    "**Function Description**\n",
    "\n",
    "Complete the lonelyinteger function in the editor below.\n",
    "\n",
    "lonelyinteger has the following parameter(s):\n",
    "\n",
    "-    int a[n]: an array of integers\n",
    "\n",
    "**Returns**\n",
    "\n",
    "-    int: the element that occurs only once\n",
    "\n",
    "**Input Format**\n",
    "\n",
    "The first line contains a single integer, `n`, the number of integers in the array.\n",
    "The second line contains space-separated integers that describe the values in `a`."
   ]
  },
  {
   "cell_type": "code",
   "execution_count": 9,
   "id": "0adc2baa",
   "metadata": {},
   "outputs": [],
   "source": [
    "a = [1, 2, 3, 4, 3, 2, 1]"
   ]
  },
  {
   "cell_type": "code",
   "execution_count": 11,
   "id": "a857c5f0",
   "metadata": {},
   "outputs": [],
   "source": [
    "def lonelyinteger(a):\n",
    "    for i in a:\n",
    "        if a.count(i) == 1:\n",
    "            return i"
   ]
  },
  {
   "cell_type": "code",
   "execution_count": 12,
   "id": "bebd7de7",
   "metadata": {},
   "outputs": [
    {
     "data": {
      "text/plain": [
       "4"
      ]
     },
     "execution_count": 12,
     "metadata": {},
     "output_type": "execute_result"
    }
   ],
   "source": [
    "lonelyinteger([1,2,3,4,3,2,1])"
   ]
  },
  {
   "cell_type": "code",
   "execution_count": null,
   "id": "28bef2b1",
   "metadata": {},
   "outputs": [],
   "source": []
  }
 ],
 "metadata": {
  "kernelspec": {
   "display_name": "Python 3 (ipykernel)",
   "language": "python",
   "name": "python3"
  },
  "language_info": {
   "codemirror_mode": {
    "name": "ipython",
    "version": 3
   },
   "file_extension": ".py",
   "mimetype": "text/x-python",
   "name": "python",
   "nbconvert_exporter": "python",
   "pygments_lexer": "ipython3",
   "version": "3.9.12"
  }
 },
 "nbformat": 4,
 "nbformat_minor": 5
}
