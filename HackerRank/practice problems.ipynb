{
 "cells": [
  {
   "cell_type": "markdown",
   "id": "74a548fc",
   "metadata": {},
   "source": [
    "Alice and Bob each created one problem for HackerRank. A reviewer rates the two challenges, awarding points on a scale from 1 to 100 for three categories: problem clarity, originality, and difficulty.\n",
    "\n",
    "The rating for Alice's challenge is the triplet a = (a[0], a[1], a[2]), and the rating for Bob's challenge is the triplet b = (b[0], b[1], b[2]).\n",
    "\n",
    "The task is to find their comparison points by comparing a[0] with b[0], a[1] with b[1], and a[2] with b[2].\n",
    "\n",
    "    If a[i] > b[i], then Alice is awarded 1 point.\n",
    "    If a[i] < b[i], then Bob is awarded 1 point.\n",
    "    If a[i] = b[i], then neither person receives a point.\n",
    "\n",
    "Comparison points is the total points a person earned.\n",
    "\n",
    "Given a and b, determine their respective comparison points.\n",
    "\n",
    "Example\n",
    "\n",
    "a = [1, 2, 3]\n",
    "b = [3, 2, 1]\n",
    "\n",
    "    For elements *0*, Bob is awarded a point because a[0] .\n",
    "    For the equal elements a[1] and b[1], no points are earned.\n",
    "    Finally, for elements 2, a[2] > b[2] so Alice receives a point.\n",
    "\n",
    "The return array is [1, 1] with Alice's score first and Bob's second. "
   ]
  },
  {
   "cell_type": "code",
   "execution_count": 1,
   "id": "8b646814",
   "metadata": {},
   "outputs": [],
   "source": [
    "def compareTriplets(a, b):\n",
    "    # Write your code here\n",
    "    a_points = 0 \n",
    "    b_points = 0\n",
    "    \n",
    "    for i in range(3):\n",
    "        if a[i] > b[i]:\n",
    "            a_points += 1\n",
    "        elif a[i] < b[i]:\n",
    "            b_points += 1\n",
    "    \n",
    "    return a_points, b_points"
   ]
  },
  {
   "cell_type": "markdown",
   "id": "ed9b7700",
   "metadata": {},
   "source": [
    "Given an array of integers, find the sum of its elements.\n",
    "\n",
    "For example, if the array `ar = [1,2,3]`, `1+2+3=6`, so return `6`.\n",
    "\n",
    "**Function Description**\n",
    "\n",
    "Complete the simpleArraySum function in the editor below. It must return the sum of the array elements as an integer.\n",
    "\n",
    "simpleArraySum has the following parameter(s):\n",
    "\n",
    "- ar: an array of integers\n",
    "\n",
    "**Input Format**\n",
    "\n",
    "The first line contains an integer, `n`, denoting the size of the array.\n",
    "\n",
    "The second line contains `n` space-separated integers representing the array's elements.\n",
    "\n",
    "**Constraints**\n",
    "`0 < n, ar[i] <= 1000`\n",
    "\n",
    "**Output Format**\n",
    "\n",
    "Print the sum of the array's elements as a single integer. "
   ]
  },
  {
   "cell_type": "code",
   "execution_count": 2,
   "id": "454e51d6",
   "metadata": {},
   "outputs": [],
   "source": [
    "def simpleArraySum(ar):\n",
    "    # Write your code here\n",
    "    sum = 0 \n",
    "    \n",
    "    for i in range(len(ar)):\n",
    "        sum += ar[i]\n",
    "    \n",
    "    return int(sum)"
   ]
  },
  {
   "cell_type": "markdown",
   "id": "68246f59",
   "metadata": {},
   "source": [
    "Given an array of integers, calculate the ratios of its elements that are positive, negative, and zero. Print the decimal value of each fraction on a new line with `6` places after the decimal.\n",
    "\n",
    "**Note**: This challenge introduces precision problems. The test cases are scaled to six decimal places, though answers with absolute error of up to `10e-4` are acceptable.\n",
    "\n",
    "**Example**\n",
    "`arr = [1,1,0,-1,-1]`\n",
    "\n",
    "There are `n=5` elements, two positive, two negative and one zero. Their ratios are `2/5 = 0.400000`, `2/5 = 0.400000` and `1/5 = 0.200000`. Results are printed as: \n",
    "```\n",
    "0.400000\n",
    "0.400000\n",
    "0.200000\n",
    "```"
   ]
  },
  {
   "cell_type": "code",
   "execution_count": 3,
   "id": "9ec8f525",
   "metadata": {},
   "outputs": [],
   "source": [
    "def plusMinus(arr):\n",
    "    # Write your code here\n",
    "    elements = len(arr)\n",
    "    pos = 0\n",
    "    neg = 0\n",
    "    zeros = 0\n",
    "    \n",
    "    for i in arr:\n",
    "        if i > 0:\n",
    "            pos += 1\n",
    "        elif i < 0:\n",
    "            neg += 1\n",
    "        else:\n",
    "            zeros += 1\n",
    "    \n",
    "    pos_ratio = pos/elements\n",
    "    neg_ratio = neg/elements\n",
    "    zeros_ratio = zeros/elements\n",
    "    \n",
    "    print('{:.6f}\\n{:.6f}\\n{:.6f}'.format(pos_ratio, neg_ratio, zeros_ratio))\n"
   ]
  }
 ],
 "metadata": {
  "kernelspec": {
   "display_name": "Python 3 (ipykernel)",
   "language": "python",
   "name": "python3"
  },
  "language_info": {
   "codemirror_mode": {
    "name": "ipython",
    "version": 3
   },
   "file_extension": ".py",
   "mimetype": "text/x-python",
   "name": "python",
   "nbconvert_exporter": "python",
   "pygments_lexer": "ipython3",
   "version": "3.9.12"
  }
 },
 "nbformat": 4,
 "nbformat_minor": 5
}
